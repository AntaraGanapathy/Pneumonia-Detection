{
 "cells": [
  {
   "cell_type": "code",
   "execution_count": 1,
   "id": "3dac87b8",
   "metadata": {},
   "outputs": [],
   "source": [
    "import os\n",
    "import cv2\n",
    "import pathlib\n",
    "import matplotlib.pyplot as plt\n",
    "from tensorflow.keras.applications.inception_resnet_v2 import *\n",
    "import tensorflow as tf\n",
    "from tensorflow.keras.models import Sequential \n",
    "from tensorflow.keras.layers import Dense, Flatten, Activation\n",
    "from tensorflow.keras.layers import Conv2D, MaxPooling2D, Dropout, GlobalAveragePooling2D, MaxPool2D\n",
    "from tensorflow.keras.models import Model\n",
    "from keras.preprocessing.image import load_img\n",
    "from skimage import measure\n",
    "import numpy as np\n",
    "import pandas as pd\n",
    "from keras.preprocessing.image import load_img, img_to_array, ImageDataGenerator\n",
    "from keras.preprocessing.image import img_to_array\n",
    "from tensorflow.keras.preprocessing import image_dataset_from_directory\n",
    "from tensorflow.keras.preprocessing import image\n",
    "from tensorflow.keras.optimizers import Adam\n",
    "from sklearn.model_selection import train_test_split"
   ]
  },
  {
   "cell_type": "code",
   "execution_count": 2,
   "id": "f1e1ab97",
   "metadata": {},
   "outputs": [],
   "source": [
    "DIRECTORY = '/Users/antara/Desktop/chest_xray/'\n",
    "FOLDERS = ['test', 'train', 'val']\n",
    "\n",
    "CLASS = ['NORMAL','PNEUMONIA']"
   ]
  },
  {
   "cell_type": "code",
   "execution_count": 3,
   "id": "32266479",
   "metadata": {},
   "outputs": [],
   "source": [
    "test_data = []\n",
    "train_data = []\n",
    "val_data = []\n",
    "\n",
    "for folder in FOLDERS:\n",
    "    folder_path = os.path.join(DIRECTORY, folder)\n",
    "    for classification in CLASS:\n",
    "        image_path = os.path.join(folder_path, classification)\n",
    "        for image in os.listdir(image_path):\n",
    "            try:\n",
    "                image_url = os.path.join(image_path,image)\n",
    "                arr = cv2.imread(image_url)\n",
    "                arr = cv2.resize(arr, (100, 100))\n",
    "                label = CLASS.index(classification)\n",
    "                if folder == 'train':\n",
    "                    train_data.append([arr, label])\n",
    "                elif folder == 'test':\n",
    "                    test_data.append([arr, label])\n",
    "                else:\n",
    "                    val_data.append([arr, label])\n",
    "            except Exception as e:\n",
    "                print(e)"
   ]
  },
  {
   "cell_type": "code",
   "execution_count": 4,
   "id": "72db98e6",
   "metadata": {},
   "outputs": [],
   "source": [
    "import random\n",
    "\n",
    "random.shuffle(train_data)"
   ]
  },
  {
   "cell_type": "code",
   "execution_count": 5,
   "id": "2ef3dee1",
   "metadata": {},
   "outputs": [],
   "source": [
    "X = []\n",
    "y = []\n",
    "\n",
    "for feature, label in train_data:\n",
    "    X.append(feature)\n",
    "    y.append(label)"
   ]
  },
  {
   "cell_type": "code",
   "execution_count": 6,
   "id": "b666f932",
   "metadata": {},
   "outputs": [],
   "source": [
    "X = np.array(X)\n",
    "y = np.array(y)"
   ]
  },
  {
   "cell_type": "code",
   "execution_count": 7,
   "id": "b204bbba",
   "metadata": {},
   "outputs": [],
   "source": [
    "X = X.reshape(-1, 100, 100, 3)"
   ]
  },
  {
   "cell_type": "code",
   "execution_count": 8,
   "id": "512458a8",
   "metadata": {},
   "outputs": [],
   "source": [
    "X = X/255"
   ]
  },
  {
   "cell_type": "code",
   "execution_count": 10,
   "id": "7c37ba80",
   "metadata": {},
   "outputs": [
    {
     "data": {
      "text/plain": [
       "(100, 100, 3)"
      ]
     },
     "execution_count": 10,
     "metadata": {},
     "output_type": "execute_result"
    }
   ],
   "source": [
    "X.shape[1:]"
   ]
  },
  {
   "cell_type": "code",
   "execution_count": 11,
   "id": "5d0d75bb",
   "metadata": {},
   "outputs": [],
   "source": [
    "model = Sequential()\n",
    "\n",
    "# Convolution and Max Pool layers\n",
    "model.add(Conv2D(100,(3,3),activation = 'relu'))\n",
    "model.add(MaxPool2D(2,2))\n",
    "\n",
    "model.add(Conv2D(100,(3,3),activation = 'relu'))\n",
    "model.add(MaxPool2D(2,2))\n",
    "\n",
    "model.add(Conv2D(100,(3,3),activation = 'relu'))\n",
    "model.add(MaxPool2D(2,2))\n",
    "\n",
    "model.add(Conv2D(100,(3,3),activation = 'relu'))\n",
    "model.add(MaxPool2D(2,2))\n",
    "\n",
    "# Flatten\n",
    "model.add(Flatten())\n",
    "\n",
    "# Dense layers\n",
    "model.add(Dense(256, input_shape = X.shape[1:], activation = 'relu'))\n",
    "model.add(Dense(256, activation = 'relu'))\n",
    "model.add(Dense(128, activation = 'relu'))\n",
    "\n",
    "# Output (O/P) layer\n",
    "model.add(Dense(2, activation = 'sigmoid'))\n",
    "\n",
    "# Compiling the model\n",
    "model.compile(optimizer = 'adam', loss ='sparse_categorical_crossentropy', metrics = ['accuracy'])"
   ]
  },
  {
   "cell_type": "code",
   "execution_count": 12,
   "id": "308ea25a",
   "metadata": {},
   "outputs": [
    {
     "name": "stdout",
     "output_type": "stream",
     "text": [
      "Epoch 1/5\n",
      "157/157 [==============================] - 149s 944ms/step - loss: 0.5698 - accuracy: 0.7482 - val_loss: 0.4904 - val_accuracy: 0.7969\n",
      "Epoch 2/5\n",
      "157/157 [==============================] - 148s 939ms/step - loss: 0.2148 - accuracy: 0.9150 - val_loss: 0.1523 - val_accuracy: 0.9559\n",
      "Epoch 3/5\n",
      "157/157 [==============================] - 146s 930ms/step - loss: 0.1450 - accuracy: 0.9418 - val_loss: 0.2306 - val_accuracy: 0.9157\n",
      "Epoch 4/5\n",
      "157/157 [==============================] - 150s 958ms/step - loss: 0.1350 - accuracy: 0.9508 - val_loss: 0.0912 - val_accuracy: 0.9693\n",
      "Epoch 5/5\n",
      "157/157 [==============================] - 185s 1s/step - loss: 0.0975 - accuracy: 0.9666 - val_loss: 0.1133 - val_accuracy: 0.9655\n"
     ]
    }
   ],
   "source": [
    "history = model.fit(X,y, epochs = 5, batch_size = 30, validation_split = 0.1)"
   ]
  },
  {
   "cell_type": "code",
   "execution_count": 13,
   "id": "3090a6ab",
   "metadata": {},
   "outputs": [],
   "source": [
    "# plt.plot(history.history['loss'])\n",
    "# plt.plot(history.history['val_loss'])\n",
    "# plt.title('model loss')\n",
    "# plt.ylabel('loss')\n",
    "# plt.xlabel('epoch')\n",
    "# plt.legend(['train', 'validation'], loc='upper left')\n",
    "# plt.show()"
   ]
  },
  {
   "cell_type": "code",
   "execution_count": 14,
   "id": "97ca9b0b",
   "metadata": {},
   "outputs": [],
   "source": [
    "# plt.plot(history.history['accuracy'])\n",
    "# plt.plot(history.history['val_accuracy'])\n",
    "# plt.title('model accuracy')\n",
    "# plt.ylabel('accuracy')\n",
    "# plt.xlabel('epoch')\n",
    "# plt.legend(['train', 'validation'], loc='upper left')\n",
    "# plt.show()"
   ]
  },
  {
   "cell_type": "code",
   "execution_count": 15,
   "id": "5098f68f",
   "metadata": {},
   "outputs": [
    {
     "data": {
      "image/png": "[encoded data removed]",
      "text/plain": [
       "<Figure size 1152x432 with 2 Axes>"
      ]
     },
     "metadata": {
      "needs_background": "light"
     },
     "output_type": "display_data"
    }
   ],
   "source": [
    "fig,ax = plt.subplots(1,2,figsize=(16,6))\n",
    "\n",
    "ax[0].set_title(\"Loss v/s val_loss\")\n",
    "ax[0].plot(history.history['loss'], label='Train Loss') \n",
    "ax[0].plot(history.history['val_loss'], label='Val Loss') \n",
    "ax[0].set_xlabel('Epochs')\n",
    "ax[0].set_ylabel('Loss')\n",
    "ax[0].legend()\n",
    "\n",
    "ax[1].set_title(\"Accuracy v/s val_accuracy\")\n",
    "ax[1].plot(history.history['accuracy'], label='Train accuracy') \n",
    "ax[1].plot(history.history['val_accuracy'], label='Val accuracy') \n",
    "ax[1].set_xlabel('Epochs')\n",
    "ax[1].set_ylabel('Accuracy')\n",
    "ax[1].legend()\n",
    "\n",
    "plt.show()"
   ]
  },
  {
   "cell_type": "code",
   "execution_count": 16,
   "id": "ac2147a8",
   "metadata": {},
   "outputs": [],
   "source": [
    "X_test = []\n",
    "y_test = []\n",
    "\n",
    "for feature, label in test_data:\n",
    "    X_test.append(feature)\n",
    "    y_test.append(label)"
   ]
  },
  {
   "cell_type": "code",
   "execution_count": 17,
   "id": "2ced4bae",
   "metadata": {},
   "outputs": [],
   "source": [
    "X_test = np.array(X_test)\n",
    "y_test = np.array(y_test)"
   ]
  },
  {
   "cell_type": "code",
   "execution_count": 18,
   "id": "d3cf0a8a",
   "metadata": {},
   "outputs": [],
   "source": [
    "X_test = X_test.reshape(-1, 100, 100, 3)"
   ]
  },
  {
   "cell_type": "code",
   "execution_count": 19,
   "id": "60439d81",
   "metadata": {},
   "outputs": [],
   "source": [
    "X_test = X_test/255"
   ]
  },
  {
   "cell_type": "code",
   "execution_count": 20,
   "id": "5d240fb3",
   "metadata": {},
   "outputs": [],
   "source": [
    "# pickle.dump(X_test, open('X_test.pkl', 'wb'))\n",
    "# pickle.dump(y_test, open('y_test.pkl', 'wb'))"
   ]
  },
  {
   "cell_type": "code",
   "execution_count": 21,
   "id": "1e0c1023",
   "metadata": {},
   "outputs": [
    {
     "name": "stdout",
     "output_type": "stream",
     "text": [
      "Test loss: 0.7514051795005798\n",
      "Test accuracy: 0.7724359035491943\n"
     ]
    }
   ],
   "source": [
    "score = model.evaluate(X_test,y_test,verbose = 0) \n",
    "\n",
    "print('Test loss:', score[0]) \n",
    "print('Test accuracy:', score[1])"
   ]
  },
  {
   "cell_type": "code",
   "execution_count": 34,
   "id": "7a497dd3",
   "metadata": {},
   "outputs": [],
   "source": [
    "file_path = '/Users/antara/Desktop/chest_xray/train/NORMAL/IM-0654-0001.jpeg'"
   ]
  },
  {
   "cell_type": "code",
   "execution_count": 36,
   "id": "2e8f018c",
   "metadata": {},
   "outputs": [],
   "source": [
    "def read_file(filename):\n",
    "  img = cv2.imread(filename)\n",
    "  cv2.imshow(\"Image\",img)\n",
    "\n",
    "read_file(file_path)"
   ]
  },
  {
   "cell_type": "code",
   "execution_count": 37,
   "id": "7874b156",
   "metadata": {},
   "outputs": [],
   "source": [
    "img = cv2.imread(file_path)"
   ]
  },
  {
   "cell_type": "code",
   "execution_count": 38,
   "id": "01d2a0f6",
   "metadata": {},
   "outputs": [],
   "source": [
    "img = np.array(img)"
   ]
  },
  {
   "cell_type": "code",
   "execution_count": 39,
   "id": "ddb56422",
   "metadata": {},
   "outputs": [],
   "source": [
    "img = cv2.resize(img, (100, 100), 3)\n",
    "img = np.expand_dims(img,axis=0)"
   ]
  },
  {
   "cell_type": "code",
   "execution_count": 40,
   "id": "c743dc18",
   "metadata": {},
   "outputs": [],
   "source": [
    "img = img/255"
   ]
  },
  {
   "cell_type": "code",
   "execution_count": 41,
   "id": "3082e5ba",
   "metadata": {},
   "outputs": [
    {
     "data": {
      "text/plain": [
       "array([[0.92855054, 0.20743239]], dtype=float32)"
      ]
     },
     "execution_count": 41,
     "metadata": {},
     "output_type": "execute_result"
    }
   ],
   "source": [
    "model.predict(img)"
   ]
  },
  {
   "cell_type": "code",
   "execution_count": 42,
   "id": "3fdcd885",
   "metadata": {},
   "outputs": [
    {
     "data": {
      "text/plain": [
       "array([0.92855054, 0.20743239], dtype=float32)"
      ]
     },
     "execution_count": 42,
     "metadata": {},
     "output_type": "execute_result"
    }
   ],
   "source": [
    "(model.predict(img))[0]"
   ]
  },
  {
   "cell_type": "code",
   "execution_count": 49,
   "id": "158c56d9",
   "metadata": {},
   "outputs": [
    {
     "name": "stdout",
     "output_type": "stream",
     "text": [
      "[0.92855054 0.20743239]\n",
      "\n",
      "NORMAL\n"
     ]
    }
   ],
   "source": [
    "print((model.predict(img))[0])\n",
    "print(f\"\\n{CLASS[np.argmax((model.predict(img))[0])]}\")\n",
    "# (model.predict(img))[0]"
   ]
  }
 ],
 "metadata": {
  "kernelspec": {
   "display_name": "Python 3 (ipykernel)",
   "language": "python",
   "name": "python3"
  },
  "language_info": {
   "codemirror_mode": {
    "name": "ipython",
    "version": 3
   },
   "file_extension": ".py",
   "mimetype": "text/x-python",
   "name": "python",
   "nbconvert_exporter": "python",
   "pygments_lexer": "ipython3",
   "version": "3.9.13"
  }
 },
 "nbformat": 4,
 "nbformat_minor": 5
}
